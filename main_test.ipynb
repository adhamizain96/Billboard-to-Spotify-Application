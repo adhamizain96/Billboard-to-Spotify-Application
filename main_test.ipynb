{
 "cells": [
  {
   "cell_type": "code",
   "execution_count": 13,
   "id": "edc3c902",
   "metadata": {},
   "outputs": [
    {
     "name": "stdout",
     "output_type": "stream",
     "text": [
      "Which year/month/day -> YYYY-MM-DD do you want to travel? to: 2018-07-18\n",
      "g5zl9x1f0rmshgaxc1ijhxti1\n"
     ]
    }
   ],
   "source": [
    "import requests\n",
    "from bs4 import BeautifulSoup\n",
    "import spotipy\n",
    "from spotipy.oauth2 import SpotifyOAuth\n",
    "\n",
    "#constants - always should be placed at the top\n",
    "Client_ID = ''\n",
    "Client_Secret = ''\n",
    "\n",
    "#url - https://www.billboard.com/charts/hot-100/ - where are you getting the information from???\n",
    "url = 'https://www.billboard.com/charts/hot-100/'\n",
    "#date - what date -for the week- do you want to get the chart from???\n",
    "#date - how do we do that? - input function\n",
    "#date - the format for the date has to be YYYY-MM-DD\n",
    "date = input('Which year/month/day -> YYYY-MM-DD do you want to travel? to: ')\n",
    "response = requests.get(f'{url}{date}')\n",
    "response_html = response.text\n",
    "#data - represents the document as a nested data structure\n",
    "data = BeautifulSoup(response_html, 'html.parser')\n",
    "class_data = 'c-title a-no-trucate a-font-primary-bold-s u-letter-spacing-0021 lrv-u-font-size-18@tablet lrv-u-font-size-16 u-line-height-125 u-line-height-normal@mobile-max a-truncate-ellipsis u-max-width-330 u-max-width-230@tablet-only'\n",
    "top_songs = data.find_all(name = 'h3', id = 'title-of-a-story', class_ = class_data)\n",
    "#.strip() - removes any leading (spaces at the beginning) and trailing (spaces at the end) characters\n",
    "top_100 = [song.get_text().strip() for song in top_songs]\n",
    "\n",
    "#https://spotipy.readthedocs.io/en/2.19.0/# - spotipy documentation - must read!!! \n",
    "#note - need to read the documentation more to gain a better understanding of what it's asking\n",
    "#1st guess - sp = spotipy.Spotify(auth_manager = SpotifyOAuth(parameters for the authentication manager))\n",
    "sp = spotipy.Spotify(\n",
    "    auth_manager = SpotifyOAuth(\n",
    "        scope = 'playlist-modify-private',\n",
    "        redirect_uri = 'https://example.com/callback/',\n",
    "        client_id = Client_ID,\n",
    "        client_secret = Client_Secret,\n",
    "        show_dialog = True,\n",
    "        cache_path = 'token.txt' \n",
    "    )\n",
    ")\n",
    "user_id = sp.current_user()['id']\n",
    "#id - ''\n",
    "\n",
    "#URIs - the resource identifier that you can enter, for example, in the Spotify Desktop client’s search box to locate an artist, album, or track\n",
    "URIs = []\n",
    "\n",
    "for songs in top_100:\n",
    "    result = sp.search(q = f'track:{songs}')\n",
    "    try:\n",
    "        item = result['tracks']['items'][0]['uri']\n",
    "        URIs.append(item)\n",
    "    except:\n",
    "        pass\n",
    "\n",
    "playlist = sp.user_playlist_create(user = user_id, name = f'Billboard Top 100 Playlist on {date}', public = False)\n",
    "#we have to add tracks to the playlist - how do we do that??? - user_playlist_add_tracks(user, playlist_id, tracks, position = None)\n",
    "sp.user_playlist_add_tracks(user = user_id, playlist_id = playlist['id'], tracks = URIs)"
   ]
  }
 ],
 "metadata": {
  "kernelspec": {
   "display_name": "Python 3",
   "language": "python",
   "name": "python3"
  },
  "language_info": {
   "codemirror_mode": {
    "name": "ipython",
    "version": 3
   },
   "file_extension": ".py",
   "mimetype": "text/x-python",
   "name": "python",
   "nbconvert_exporter": "python",
   "pygments_lexer": "ipython3",
   "version": "3.8.8"
  }
 },
 "nbformat": 4,
 "nbformat_minor": 5
}
